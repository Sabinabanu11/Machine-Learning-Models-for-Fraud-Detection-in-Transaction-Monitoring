{
 "cells": [
  {
   "cell_type": "code",
   "execution_count": 2,
   "id": "ed5d7088-fe33-4cc4-b423-178f13c4695c",
   "metadata": {},
   "outputs": [
    {
     "name": "stdout",
     "output_type": "stream",
     "text": [
      "Requirement already satisfied: kaggle in c:\\users\\sabinabanu\\anaconda3\\lib\\site-packages (1.7.4.2)\n",
      "Requirement already satisfied: bleach in c:\\users\\sabinabanu\\anaconda3\\lib\\site-packages (from kaggle) (4.1.0)\n",
      "Requirement already satisfied: certifi>=14.05.14 in c:\\users\\sabinabanu\\anaconda3\\lib\\site-packages (from kaggle) (2024.12.14)\n",
      "Requirement already satisfied: charset-normalizer in c:\\users\\sabinabanu\\anaconda3\\lib\\site-packages (from kaggle) (2.0.4)\n",
      "Requirement already satisfied: idna in c:\\users\\sabinabanu\\anaconda3\\lib\\site-packages (from kaggle) (3.4)\n",
      "Requirement already satisfied: protobuf in c:\\users\\sabinabanu\\anaconda3\\lib\\site-packages (from kaggle) (5.29.1)\n",
      "Requirement already satisfied: python-dateutil>=2.5.3 in c:\\users\\sabinabanu\\anaconda3\\lib\\site-packages (from kaggle) (2.8.2)\n",
      "Requirement already satisfied: python-slugify in c:\\users\\sabinabanu\\anaconda3\\lib\\site-packages (from kaggle) (5.0.2)\n",
      "Requirement already satisfied: requests in c:\\users\\sabinabanu\\anaconda3\\lib\\site-packages (from kaggle) (2.32.3)\n",
      "Requirement already satisfied: setuptools>=21.0.0 in c:\\users\\sabinabanu\\anaconda3\\lib\\site-packages (from kaggle) (68.0.0)\n",
      "Requirement already satisfied: six>=1.10 in c:\\users\\sabinabanu\\anaconda3\\lib\\site-packages (from kaggle) (1.16.0)\n",
      "Requirement already satisfied: text-unidecode in c:\\users\\sabinabanu\\anaconda3\\lib\\site-packages (from kaggle) (1.3)\n",
      "Requirement already satisfied: tqdm in c:\\users\\sabinabanu\\anaconda3\\lib\\site-packages (from kaggle) (4.65.0)\n",
      "Requirement already satisfied: urllib3>=1.15.1 in c:\\users\\sabinabanu\\anaconda3\\lib\\site-packages (from kaggle) (1.26.16)\n",
      "Requirement already satisfied: webencodings in c:\\users\\sabinabanu\\anaconda3\\lib\\site-packages (from kaggle) (0.5.1)\n",
      "Requirement already satisfied: packaging in c:\\users\\sabinabanu\\anaconda3\\lib\\site-packages (from bleach->kaggle) (23.1)\n",
      "Requirement already satisfied: colorama in c:\\users\\sabinabanu\\anaconda3\\lib\\site-packages (from tqdm->kaggle) (0.4.6)\n",
      "Note: you may need to restart the kernel to use updated packages.\n"
     ]
    }
   ],
   "source": [
    "pip install kaggle"
   ]
  },
  {
   "cell_type": "code",
   "execution_count": 4,
   "id": "704bb6f1-49f2-40f6-b9f0-5b9d17baffe1",
   "metadata": {},
   "outputs": [
    {
     "name": "stdout",
     "output_type": "stream",
     "text": [
      "Downloading dataset...\n",
      "Dataset URL: https://www.kaggle.com/datasets/berkanoztas/synthetic-transaction-monitoring-dataset-aml\n",
      "Dataset downloaded successfully: synthetic-transaction-monitoring-dataset-aml.zip\n",
      "Extracting dataset...\n",
      "Extraction completed.\n",
      "       Time        Date  Sender_account  Receiver_account    Amount  \\\n",
      "0  10:35:19  2022-10-07      8724731955        2769355426   1459.15   \n",
      "1  10:35:20  2022-10-07      1491989064        8401255335   6019.64   \n",
      "2  10:35:20  2022-10-07       287305149        4404767002  14328.44   \n",
      "3  10:35:21  2022-10-07      5376652437        9600420220  11895.00   \n",
      "4  10:35:21  2022-10-07      9614186178        3803336972    115.25   \n",
      "\n",
      "  Payment_currency Received_currency Sender_bank_location  \\\n",
      "0        UK pounds         UK pounds                   UK   \n",
      "1        UK pounds            Dirham                   UK   \n",
      "2        UK pounds         UK pounds                   UK   \n",
      "3        UK pounds         UK pounds                   UK   \n",
      "4        UK pounds         UK pounds                   UK   \n",
      "\n",
      "  Receiver_bank_location  Payment_type  Is_laundering       Laundering_type  \n",
      "0                     UK  Cash Deposit              0  Normal_Cash_Deposits  \n",
      "1                    UAE  Cross-border              0        Normal_Fan_Out  \n",
      "2                     UK        Cheque              0  Normal_Small_Fan_Out  \n",
      "3                     UK           ACH              0         Normal_Fan_In  \n",
      "4                     UK  Cash Deposit              0  Normal_Cash_Deposits  \n"
     ]
    }
   ],
   "source": [
    "import os\n",
    "import kaggle\n",
    "import zipfile\n",
    "import pandas as pd\n",
    "\n",
    "os.environ['KAGGLE_CONFIG_DIR'] = \"/path/to/kaggle.json\"  \n",
    "\n",
    "# Dataset URL from Kaggle (use the dataset slug)\n",
    "dataset_url = 'berkanoztas/synthetic-transaction-monitoring-dataset-aml'  \n",
    "download_path = 'synthetic-transaction-monitoring-dataset-aml.zip' \n",
    "\n",
    "# Download the dataset\n",
    "print(\"Downloading dataset...\")\n",
    "kaggle.api.dataset_download_files(dataset_url, path='.', unzip=False)\n",
    "\n",
    "# Check if the file exists after download\n",
    "if os.path.exists(download_path):\n",
    "    print(f\"Dataset downloaded successfully: {download_path}\")\n",
    "else:\n",
    "    print(f\"Download failed. Could not find {download_path}.\")\n",
    "\n",
    "# Unzip the downloaded dataset if it exists\n",
    "if os.path.exists(download_path):\n",
    "    print(\"Extracting dataset...\")\n",
    "    with zipfile.ZipFile(download_path, 'r') as zip_ref:\n",
    "        zip_ref.extractall(\".\")  # Extract to the current directory\n",
    "    print(\"Extraction completed.\")\n",
    "\n",
    "    # Load the dataset into a pandas DataFrame\n",
    "    df = pd.read_csv(\"SAML-D.csv\")  # Adjust filename if necessary\n",
    "    print(df.head())  # Show the first few rows of the dataset\n",
    "else:\n",
    "    print(\"Dataset zip file not found. Please check the download process.\")\n"
   ]
  },
  {
   "cell_type": "code",
   "execution_count": 6,
   "id": "e8377cde-dbb3-415c-81ec-9eb7c2598157",
   "metadata": {},
   "outputs": [],
   "source": [
    "import matplotlib.pyplot as plt\n",
    "from imblearn.over_sampling import SMOTE\n",
    "from sklearn.model_selection import train_test_split\n",
    "from sklearn.preprocessing import StandardScaler, OneHotEncoder\n",
    "from sklearn.compose import ColumnTransformer"
   ]
  },
  {
   "cell_type": "code",
   "execution_count": 8,
   "id": "2209abef-1510-4f2e-a0e2-cd3b4b2fc2a7",
   "metadata": {},
   "outputs": [
    {
     "name": "stdout",
     "output_type": "stream",
     "text": [
      "Missing Values:\n",
      " Time                      0\n",
      "Date                      0\n",
      "Sender_account            0\n",
      "Receiver_account          0\n",
      "Amount                    0\n",
      "Payment_currency          0\n",
      "Received_currency         0\n",
      "Sender_bank_location      0\n",
      "Receiver_bank_location    0\n",
      "Payment_type              0\n",
      "Is_laundering             0\n",
      "Laundering_type           0\n",
      "dtype: int64\n"
     ]
    }
   ],
   "source": [
    "# Check for missing values in the dataset\n",
    "missing_values = df.isnull().sum()\n",
    "print(\"Missing Values:\\n\", missing_values)"
   ]
  },
  {
   "cell_type": "code",
   "execution_count": null,
   "id": "e6700c61-f1eb-4473-85a1-cbfe2911f309",
   "metadata": {},
   "outputs": [],
   "source": []
  }
 ],
 "metadata": {
  "kernelspec": {
   "display_name": "Python [conda env:base] *",
   "language": "python",
   "name": "conda-base-py"
  },
  "language_info": {
   "codemirror_mode": {
    "name": "ipython",
    "version": 3
   },
   "file_extension": ".py",
   "mimetype": "text/x-python",
   "name": "python",
   "nbconvert_exporter": "python",
   "pygments_lexer": "ipython3",
   "version": "3.11.5"
  }
 },
 "nbformat": 4,
 "nbformat_minor": 5
}
